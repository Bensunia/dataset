{
 "cells": [
  {
   "cell_type": "markdown",
   "metadata": {
    "toc": true
   },
   "source": [
    "<h1>Table of Contents<span class=\"tocSkip\"></span></h1>\n",
    "<div class=\"toc\"><ul class=\"toc-item\"><li><span><a href=\"#Dataset-example\" data-toc-modified-id=\"Dataset-example-1\"><span class=\"toc-item-num\">1&nbsp;&nbsp;</span>Dataset example</a></span></li></ul></div>"
   ]
  },
  {
   "cell_type": "markdown",
   "metadata": {},
   "source": [
    "# Dataset example"
   ]
  },
  {
   "cell_type": "code",
   "execution_count": 14,
   "metadata": {},
   "outputs": [],
   "source": [
    "import warnings\n",
    "\n",
    "warnings.filterwarnings('ignore')\n",
    "\n",
    "import numpy as np\n",
    "from dataset import Dataset\n",
    "import matplotlib.pyplot as plt\n",
    "import seaborn as sns"
   ]
  },
  {
   "cell_type": "code",
   "execution_count": 6,
   "metadata": {},
   "outputs": [
    {
     "name": "stdout",
     "output_type": "stream",
     "text": [
      "Pokemon dataset\n",
      "\n",
      "Available types: [dtype('float64') dtype('O')]\n",
      "12 Features\n",
      "4 categorical features\n",
      "8 numerical features\n",
      "1 categorical features with NAs\n",
      "0 numerical features with NAs\n",
      "11 Complete features\n",
      "--\n",
      "Target: Legendary (bool)\n",
      "'Legendary'\n",
      "  Min.: 0.0000\n",
      "  1stQ: 0.0000\n",
      "  Med.: 0.0000\n",
      "  Mean: 0.0813\n",
      "  3rdQ: 0.0000\n",
      "  Max.: 1.0000\n",
      "\n",
      "Features Summary:\n",
      "'#'         : float64    Min.(1.0) 1stQ(184.) Med.(364.) Mean(362.) 3rdQ(539.) Max.(721.)\n",
      "'Name'      : object     800 categs. 'Bulbasaur'(1, 0.0013) 'Ivysaur'(1, 0.0013) 'Venusaur'(1, 0.0013) 'VenusaurMega Venusaur'(1, 0.0013) 'Charmander'(1, 0.0013) ...\n",
      "'Type 1'    : object     18 categs. 'Grass'(112, 0.1400) 'Fire'(98, 0.1225) 'Water'(70, 0.0875) 'Bug'(69, 0.0862) 'Normal'(57, 0.0712) ...\n",
      "'Type 2'    : object     18 categs. 'Poison'(97, 0.2343) 'nan'(35, 0.0845) 'Flying'(34, 0.0821) 'Dragon'(33, 0.0797) 'Ground'(26, 0.0628) ...\n",
      "'Total'     : float64    Min.(180.) 1stQ(330.) Med.(450.) Mean(435.) 3rdQ(515.) Max.(780.)\n",
      "'HP'        : float64    Min.(1.0) 1stQ(50.0) Med.(65.0) Mean(69.2) 3rdQ(80.0) Max.(255.)\n",
      "'Attack'    : float64    Min.(5.0) 1stQ(55.0) Med.(75.0) Mean(79.0) 3rdQ(100.) Max.(190.)\n",
      "'Defense'   : float64    Min.(5.0) 1stQ(50.0) Med.(70.0) Mean(73.8) 3rdQ(90.0) Max.(230.)\n",
      "'Sp. Atk'   : float64    Min.(10.0) 1stQ(49.7) Med.(65.0) Mean(72.8) 3rdQ(95.0) Max.(194.)\n",
      "'Sp. Def'   : float64    Min.(20.0) 1stQ(50.0) Med.(70.0) Mean(71.9) 3rdQ(90.0) Max.(230.)\n",
      "'Speed'     : float64    Min.(5.0) 1stQ(45.0) Med.(65.0) Mean(68.2) 3rdQ(90.0) Max.(180.)\n",
      "'Generation': object     6 categs. 'Gen 1'(166, 0.2075) 'Gen 2'(165, 0.2062) 'Gen 3'(160, 0.2000) 'Gen 4'(121, 0.1512) 'Gen 5'(106, 0.1325) ...\n"
     ]
    }
   ],
   "source": [
    "print('Pokemon dataset')\n",
    "pokemon = Dataset('../data/pokemon.csv.gz')\n",
    "pokemon.set_target('Legendary')\n",
    "pokemon.describe()\n",
    "pokemon.summary()"
   ]
  },
  {
   "cell_type": "code",
   "execution_count": 7,
   "metadata": {},
   "outputs": [
    {
     "name": "stdout",
     "output_type": "stream",
     "text": [
      "\n",
      "Features Summary:\n",
      "'satisfaction_level'   : float64    Min.(0.09) 1stQ(0.44) Med.(0.64) Mean(0.61) 3rdQ(0.82) Max.(1.0)\n",
      "'last_evaluation'      : float64    Min.(0.36) 1stQ(0.56) Med.(0.72) Mean(0.71) 3rdQ(0.87) Max.(1.0)\n",
      "'number_project'       : float64    Min.(2.0) 1stQ(3.0) Med.(4.0) Mean(3.80) 3rdQ(5.0) Max.(7.0)\n",
      "'average_montly_hours' : float64    Min.(96.0) 1stQ(156.) Med.(200.) Mean(201.) 3rdQ(245.) Max.(310.)\n",
      "'time_spend_company'   : float64    Min.(2.0) 1stQ(3.0) Med.(3.0) Mean(3.49) 3rdQ(4.0) Max.(10.0)\n",
      "'Work_accident'        : float64    Min.(0.0) 1stQ(0.0) Med.(0.0) Mean(0.14) 3rdQ(0.0) Max.(1.0)\n",
      "'promotion_last_5years': float64    Min.(0.0) 1stQ(0.0) Med.(0.0) Mean(0.02) 3rdQ(0.0) Max.(1.0)\n",
      "'sales'                : object     10 categs. 'sales'(4140, 0.2760) 'accounting'(2720, 0.1813) 'hr'(2229, 0.1486) 'technical'(1227, 0.0818) 'support'(902, 0.0601) ...\n",
      "'salary'               : object     3 categs. 'low'(7316, 0.4878) 'medium'(6446, 0.4298) 'high'(1237, 0.0825) \n",
      "\n",
      "--\n",
      "List of skewed numerical features:\n",
      "None\n",
      "\n",
      "--\n",
      "Converting categoricals to dummies\n",
      "\n",
      "Features Summary:\n",
      "'average_montly_hours'     : float64    Min.(96.0) 1stQ(156.) Med.(200.) Mean(201.) 3rdQ(245.) Max.(310.)\n",
      "'last_evaluation'          : float64    Min.(0.36) 1stQ(0.56) Med.(0.72) Mean(0.71) 3rdQ(0.87) Max.(1.0)\n",
      "'satisfaction_level'       : float64    Min.(0.09) 1stQ(0.44) Med.(0.64) Mean(0.61) 3rdQ(0.82) Max.(1.0)\n",
      "'number_project_2.0'       : float64    Min.(0.0) 1stQ(0.0) Med.(0.0) Mean(0.15) 3rdQ(0.0) Max.(1.0)\n",
      "'number_project_3.0'       : float64    Min.(0.0) 1stQ(0.0) Med.(0.0) Mean(0.27) 3rdQ(1.0) Max.(1.0)\n",
      "'number_project_4.0'       : float64    Min.(0.0) 1stQ(0.0) Med.(0.0) Mean(0.29) 3rdQ(1.0) Max.(1.0)\n",
      "'number_project_5.0'       : float64    Min.(0.0) 1stQ(0.0) Med.(0.0) Mean(0.18) 3rdQ(0.0) Max.(1.0)\n",
      "'number_project_6.0'       : float64    Min.(0.0) 1stQ(0.0) Med.(0.0) Mean(0.07) 3rdQ(0.0) Max.(1.0)\n",
      "'number_project_7.0'       : float64    Min.(0.0) 1stQ(0.0) Med.(0.0) Mean(0.01) 3rdQ(0.0) Max.(1.0)\n",
      "'time_spend_company_10.0'  : float64    Min.(0.0) 1stQ(0.0) Med.(0.0) Mean(0.01) 3rdQ(0.0) Max.(1.0)\n",
      "'time_spend_company_2.0'   : float64    Min.(0.0) 1stQ(0.0) Med.(0.0) Mean(0.21) 3rdQ(0.0) Max.(1.0)\n",
      "'time_spend_company_3.0'   : float64    Min.(0.0) 1stQ(0.0) Med.(0.0) Mean(0.42) 3rdQ(1.0) Max.(1.0)\n",
      "'time_spend_company_4.0'   : float64    Min.(0.0) 1stQ(0.0) Med.(0.0) Mean(0.17) 3rdQ(0.0) Max.(1.0)\n",
      "'time_spend_company_5.0'   : float64    Min.(0.0) 1stQ(0.0) Med.(0.0) Mean(0.09) 3rdQ(0.0) Max.(1.0)\n",
      "'time_spend_company_6.0'   : float64    Min.(0.0) 1stQ(0.0) Med.(0.0) Mean(0.04) 3rdQ(0.0) Max.(1.0)\n",
      "'time_spend_company_7.0'   : float64    Min.(0.0) 1stQ(0.0) Med.(0.0) Mean(0.01) 3rdQ(0.0) Max.(1.0)\n",
      "'time_spend_company_8.0'   : float64    Min.(0.0) 1stQ(0.0) Med.(0.0) Mean(0.01) 3rdQ(0.0) Max.(1.0)\n",
      "'Work_accident_0.0'        : float64    Min.(0.0) 1stQ(1.0) Med.(1.0) Mean(0.85) 3rdQ(1.0) Max.(1.0)\n",
      "'Work_accident_1.0'        : float64    Min.(0.0) 1stQ(0.0) Med.(0.0) Mean(0.14) 3rdQ(0.0) Max.(1.0)\n",
      "'promotion_last_5years_0.0': float64    Min.(0.0) 1stQ(1.0) Med.(1.0) Mean(0.97) 3rdQ(1.0) Max.(1.0)\n",
      "'promotion_last_5years_1.0': float64    Min.(0.0) 1stQ(0.0) Med.(0.0) Mean(0.02) 3rdQ(0.0) Max.(1.0)\n",
      "'sales_IT'                 : float64    Min.(0.0) 1stQ(0.0) Med.(0.0) Mean(0.08) 3rdQ(0.0) Max.(1.0)\n",
      "'sales_RandD'              : float64    Min.(0.0) 1stQ(0.0) Med.(0.0) Mean(0.05) 3rdQ(0.0) Max.(1.0)\n",
      "'sales_accounting'         : float64    Min.(0.0) 1stQ(0.0) Med.(0.0) Mean(0.05) 3rdQ(0.0) Max.(1.0)\n",
      "'sales_hr'                 : float64    Min.(0.0) 1stQ(0.0) Med.(0.0) Mean(0.04) 3rdQ(0.0) Max.(1.0)\n",
      "'sales_management'         : float64    Min.(0.0) 1stQ(0.0) Med.(0.0) Mean(0.04) 3rdQ(0.0) Max.(1.0)\n",
      "'sales_marketing'          : float64    Min.(0.0) 1stQ(0.0) Med.(0.0) Mean(0.05) 3rdQ(0.0) Max.(1.0)\n",
      "'sales_product_mng'        : float64    Min.(0.0) 1stQ(0.0) Med.(0.0) Mean(0.06) 3rdQ(0.0) Max.(1.0)\n",
      "'sales_sales'              : float64    Min.(0.0) 1stQ(0.0) Med.(0.0) Mean(0.27) 3rdQ(1.0) Max.(1.0)\n",
      "'sales_support'            : float64    Min.(0.0) 1stQ(0.0) Med.(0.0) Mean(0.14) 3rdQ(0.0) Max.(1.0)\n",
      "'sales_technical'          : float64    Min.(0.0) 1stQ(0.0) Med.(0.0) Mean(0.18) 3rdQ(0.0) Max.(1.0)\n",
      "'salary_high'              : float64    Min.(0.0) 1stQ(0.0) Med.(0.0) Mean(0.08) 3rdQ(0.0) Max.(1.0)\n",
      "'salary_low'               : float64    Min.(0.0) 1stQ(0.0) Med.(0.0) Mean(0.48) 3rdQ(1.0) Max.(1.0)\n",
      "'salary_medium'            : float64    Min.(0.0) 1stQ(0.0) Med.(0.0) Mean(0.42) 3rdQ(1.0) Max.(1.0)\n"
     ]
    }
   ],
   "source": [
    "hr = Dataset('/Users/renero/Downloads/hr-analytics.zip')\n",
    "hr.set_target('left')\n",
    "hr.summary()\n",
    "print('\\n--')\n",
    "print('List of skewed numerical features:')\n",
    "print(hr.skewed_features())\n",
    "print('\\n--')\n",
    "print('Converting categoricals to dummies')\n",
    "hr.to_categorical(['number_project', 'time_spend_company',\n",
    "                   'promotion_last_5years', 'Work_accident'])\n",
    "hr.onehot_encode(hr.names('categorical'))\n",
    "hr.summary()"
   ]
  },
  {
   "cell_type": "code",
   "execution_count": 8,
   "metadata": {},
   "outputs": [
    {
     "name": "stdout",
     "output_type": "stream",
     "text": [
      "\n",
      "Stepwise feature selection\n",
      "\n",
      "Available types: [dtype('float64')]\n",
      "24 Features\n",
      "0 categorical features\n",
      "24 numerical features\n",
      "0 categorical features with NAs\n",
      "0 numerical features with NAs\n",
      "24 Complete features\n",
      "--\n",
      "Target: left (float64)\n",
      "'left'\n",
      "  Min.: 0.0000\n",
      "  1stQ: 0.0000\n",
      "  Med.: 0.0000\n",
      "  Mean: 0.2381\n",
      "  3rdQ: 0.0000\n",
      "  Max.: 1.0000\n",
      "\n",
      "Features highly correlated\n",
      "\n",
      "Available types: [dtype('float64')]\n",
      "23 Features\n",
      "0 categorical features\n",
      "23 numerical features\n",
      "0 categorical features with NAs\n",
      "0 numerical features with NAs\n",
      "23 Complete features\n",
      "--\n",
      "Target: left (float64)\n",
      "'left'\n",
      "  Min.: 0.0000\n",
      "  1stQ: 0.0000\n",
      "  Med.: 0.0000\n",
      "  Mean: 0.2381\n",
      "  3rdQ: 0.0000\n",
      "  Max.: 1.0000\n"
     ]
    }
   ],
   "source": [
    "print('\\nStepwise feature selection')\n",
    "hr.keep_columns(hr.stepwise_selection()).describe()\n",
    "print('\\nFeatures highly correlated')\n",
    "hr.drop_columns(hr.correlated()).describe()"
   ]
  },
  {
   "cell_type": "code",
   "execution_count": 9,
   "metadata": {},
   "outputs": [
    {
     "name": "stdout",
     "output_type": "stream",
     "text": [
      "[-1.00140948 -0.98830488 -1.06784728 ... -1.00191362 -1.00967756\n",
      " -0.99935922]\n"
     ]
    },
    {
     "data": {
      "image/png": "[encoded data removed]",
      "text/plain": [
       "<Figure size 432x288 with 1 Axes>"
      ]
     },
     "metadata": {
      "needs_background": "light"
     },
     "output_type": "display_data"
    }
   ],
   "source": [
    "lof_outliers = hr.outliers()\n",
    "\n",
    "sns.distplot(lof_outliers)\n",
    "plt.show();"
   ]
  },
  {
   "cell_type": "code",
   "execution_count": 10,
   "metadata": {},
   "outputs": [
    {
     "data": {
      "text/plain": [
       "-36.59837842022699"
      ]
     },
     "execution_count": 10,
     "metadata": {},
     "output_type": "execute_result"
    }
   ],
   "source": [
    "min(lof_outliers)"
   ]
  },
  {
   "cell_type": "code",
   "execution_count": 15,
   "metadata": {},
   "outputs": [
    {
     "data": {
      "text/plain": [
       "(array([7989]),)"
      ]
     },
     "execution_count": 15,
     "metadata": {},
     "output_type": "execute_result"
    }
   ],
   "source": [
    "np.where(lof_outliers == min(lof_outliers))"
   ]
  },
  {
   "cell_type": "code",
   "execution_count": 19,
   "metadata": {},
   "outputs": [
    {
     "data": {
      "text/plain": [
       "average_montly_hours         135.00\n",
       "last_evaluation                0.45\n",
       "satisfaction_level             0.36\n",
       "number_project_2.0             1.00\n",
       "number_project_3.0             0.00\n",
       "number_project_4.0             0.00\n",
       "number_project_5.0             0.00\n",
       "number_project_6.0             0.00\n",
       "number_project_7.0             0.00\n",
       "time_spend_company_10.0        0.00\n",
       "time_spend_company_2.0         0.00\n",
       "time_spend_company_4.0         0.00\n",
       "time_spend_company_5.0         0.00\n",
       "time_spend_company_6.0         0.00\n",
       "time_spend_company_7.0         0.00\n",
       "time_spend_company_8.0         0.00\n",
       "Work_accident_0.0              0.00\n",
       "promotion_last_5years_0.0      1.00\n",
       "sales_RandD                    0.00\n",
       "sales_hr                       0.00\n",
       "salary_high                    1.00\n",
       "salary_low                     0.00\n",
       "salary_medium                  0.00\n",
       "Name: 7989, dtype: float64"
      ]
     },
     "execution_count": 19,
     "metadata": {},
     "output_type": "execute_result"
    }
   ],
   "source": [
    "hr.features.iloc[7989, :]"
   ]
  },
  {
   "cell_type": "code",
   "execution_count": 26,
   "metadata": {},
   "outputs": [
    {
     "data": {
      "text/plain": [
       "<matplotlib.axes._subplots.AxesSubplot at 0x1c22dfc7f0>"
      ]
     },
     "execution_count": 26,
     "metadata": {},
     "output_type": "execute_result"
    },
    {
     "data": {
      "image/png": "[encoded data removed]",
      "text/plain": [
       "<Figure size 432x288 with 1 Axes>"
      ]
     },
     "metadata": {
      "needs_background": "light"
     },
     "output_type": "display_data"
    }
   ],
   "source": [
    "sns.boxplot(lof_outliers)"
   ]
  },
  {
   "cell_type": "code",
   "execution_count": 32,
   "metadata": {},
   "outputs": [
    {
     "data": {
      "text/plain": [
       "-9.991524796067342"
      ]
     },
     "execution_count": 32,
     "metadata": {},
     "output_type": "execute_result"
    }
   ],
   "source": [
    "np.percentile(lof_outliers, 1)"
   ]
  },
  {
   "cell_type": "code",
   "execution_count": null,
   "metadata": {},
   "outputs": [],
   "source": []
  }
 ],
 "metadata": {
  "kernelspec": {
   "display_name": "Python 3",
   "language": "python",
   "name": "python3"
  },
  "language_info": {
   "codemirror_mode": {
    "name": "ipython",
    "version": 3
   },
   "file_extension": ".py",
   "mimetype": "text/x-python",
   "name": "python",
   "nbconvert_exporter": "python",
   "pygments_lexer": "ipython3",
   "version": "3.6.8"
  },
  "toc": {
   "base_numbering": 1,
   "nav_menu": {},
   "number_sections": true,
   "sideBar": true,
   "skip_h1_title": false,
   "title_cell": "Table of Contents",
   "title_sidebar": "Contents",
   "toc_cell": true,
   "toc_position": {},
   "toc_section_display": true,
   "toc_window_display": false
  }
 },
 "nbformat": 4,
 "nbformat_minor": 2
}
